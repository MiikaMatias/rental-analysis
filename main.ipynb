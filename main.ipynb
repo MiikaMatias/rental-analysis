{
 "cells": [
  {
   "cell_type": "markdown",
   "metadata": {},
   "source": [
    "# Introduction\n",
    "Hey, I'm Miika. I'm a data science msc at the University of Helsinki. I'm currently firmly transitioning into working life, and this is my attempt to have a clear and systematic look at whether or not I oughta \n",
    "\n",
    "    1) Rent an apartment\n",
    "    2) Take a mortgage\n",
    "\n",
    "For this analysis to be useful, I need to disclose some key numbers. As a software engineer by trade, I want anyone in, what should approximate, a situation similar to mine (young professional with some wealth in ETF's or equivalent, in Helsinki who wants to live close to the center of the city) to be able to plug in some of their numbers and understand my argument from their perspective, considering only the financials.\n",
    "\n",
    "**Note that this should be viewed as my OPINION of whether or not it's worth for you, using assumptions that I've set. The program does not claim to approximate the actual outcome of your purchase.**"
   ]
  },
  {
   "cell_type": "markdown",
   "metadata": {},
   "source": [
    "# Numbers"
   ]
  },
  {
   "cell_type": "markdown",
   "metadata": {},
   "source": [
    "Alright, let's start plugging in some basic stuff. We'll want to consider a few things:\n",
    "\n",
    "    1) If you have investments, we need to approximate the annual return. For this, if your investments resides in the finnish markets, I pray for you. For American ETF's or stocks, I'll use the standard 7% inflation accounted for number. For simplicity, I'm assuming that you will never sell, or at least pay tax on your stocks that you're trading.\n",
    "\n",
    "    2) We need to consider the growth rate for the apartment itself: https://kaupunkitieto.hel.fi/fi/asuminen/asuntomarkkinat/asuntojen-hinnat. This source defines the city as a group of 5 kalleusalue. We're supposing that we're interested in kalleusalue 1 and 2 alone. In 14 years, they've risen about 36%. This means that average yearly value added is given by 100*1.0225^14 = ~136, so 2.25%.\n",
    "       \n",
    "       This is NOT inflation accounted as far as I understand, so this screams a bad deal thus far\n"
   ]
  },
  {
   "cell_type": "code",
   "execution_count": 1,
   "metadata": {},
   "outputs": [],
   "source": [
    "# Expected profit\n",
    "APPROXIMATE_ROI_ON_STOCKS = 0.07\n",
    "INFLATION = 0.02\n",
    "APPROXIMATE_VALUE_GROWTH_APARTMENT = 0.0225 - INFLATION\n"
   ]
  },
  {
   "cell_type": "markdown",
   "metadata": {},
   "source": [
    "    3) We're interested in the total costs of renting an apartment vs buying one. I'm using the logic provided by POP bank here: https://www.poppankki.fi/blogi/kannattaako-asua-vuokralla-vai-ostaa-asunto"
   ]
  },
  {
   "cell_type": "code",
   "execution_count": 2,
   "metadata": {},
   "outputs": [],
   "source": [
    "# Rental costs: very simple stuff\n",
    "RENT = 800\n",
    "\n",
    "# Costs of ownership\n",
    "APARTMENT_COST = 300000\n",
    "YHTIOVASTIKE = 300\n",
    "EURIBOR = 0.03\n",
    "MARGIN = 0.01\n",
    "LOAN_DURATION_YEARS = 25\n",
    "DOWN_PAYMENT_PERCENTAGE = 0.05 # for first time home buyers\n",
    "\n",
    "# Common\n",
    "UTILITIES = 100\n"
   ]
  },
  {
   "cell_type": "markdown",
   "metadata": {},
   "source": [
    "    4) We're also interested in the tax outlook for the given choices"
   ]
  },
  {
   "cell_type": "code",
   "execution_count": 3,
   "metadata": {},
   "outputs": [],
   "source": [
    "CAPITAL_GAINS_TAX = 0.34"
   ]
  },
  {
   "cell_type": "markdown",
   "metadata": {},
   "source": [
    "# Running the numbers"
   ]
  },
  {
   "cell_type": "markdown",
   "metadata": {},
   "source": [
    "\n",
    "# Monthly payment\n",
    "Simple assumption: we look at outcome after the loan has been paid for. We will use the annuity formula\n",
    "\n",
    "$A= P \\frac{\\frac{R}{12}(1+\\frac{R}{12})^n}{(1+\\frac{R}{12})^n + 1}$ \n",
    "\n",
    "Here\n",
    " - A is the monthly payment \n",
    " - P is the principal\n",
    " - R is the fixed interest rate\n",
    " - n is the duration in months"
   ]
  },
  {
   "cell_type": "code",
   "execution_count": 4,
   "metadata": {},
   "outputs": [
    {
     "name": "stdout",
     "output_type": "stream",
     "text": [
      "When principal is 285000€ with interest of 0.040%, for 300 months:\n",
      " Monthly payment is 1504€ \n",
      " Total cost of living is 1904€\n"
     ]
    }
   ],
   "source": [
    "principal = round(APARTMENT_COST - (APARTMENT_COST * DOWN_PAYMENT_PERCENTAGE))\n",
    "interest = (EURIBOR + MARGIN)/12\n",
    "duration = LOAN_DURATION_YEARS*12\n",
    "\n",
    "monthly_payment = int(principal * ( (interest*((1+interest)**duration))/((1+interest)**duration - 1)))\n",
    "total_cost = UTILITIES + YHTIOVASTIKE + monthly_payment\n",
    "\n",
    "print(f\"When principal is {principal:.0f}€ with interest of {interest*12:.3f}%, for {duration} months:\\n Monthly payment is {monthly_payment:.0f}€ \\n Total cost of living is {total_cost:.0f}€\")"
   ]
  },
  {
   "cell_type": "markdown",
   "metadata": {},
   "source": [
    "# Future value of investment strategy"
   ]
  },
  {
   "cell_type": "markdown",
   "metadata": {},
   "source": [
    "Let's now compute the investment future value, supposing we invest this amount instead of paying it into the equity, deducting the rent we pay."
   ]
  },
  {
   "cell_type": "code",
   "execution_count": 5,
   "metadata": {},
   "outputs": [
    {
     "name": "stdout",
     "output_type": "stream",
     "text": [
      "Suppose we invested the difference after 25 years: 899536€ \n",
      " of which gross profit is 328336€\n",
      " of which net profit is 216702€\n"
     ]
    }
   ],
   "source": [
    "def future_value(initial_investment, monthly_contribution, annual_rate, years):\n",
    "    r = annual_rate / 12  \n",
    "    n = years * 12\n",
    "    fv = (initial_investment * (1 + r) ** n) + (monthly_contribution * ((1 + r) ** n - 1) / r) * (1 + r)\n",
    "    return round(fv, 2)\n",
    "\n",
    "monthly_rent_deducted = total_cost - RENT\n",
    "\n",
    "fv = future_value(0, monthly_rent_deducted, APPROXIMATE_ROI_ON_STOCKS, 25)\n",
    "gross_profit = (fv - duration*total_cost)\n",
    "net_profit = gross_profit*(1-CAPITAL_GAINS_TAX)\n",
    "\n",
    "\n",
    "print(f\"Suppose we invested the difference after 25 years: {fv:.0f}€ \\n of which gross profit is {gross_profit:.0f}€\\n of which net profit is {net_profit:.0f}€\")\n"
   ]
  },
  {
   "cell_type": "markdown",
   "metadata": {},
   "source": [
    "In most cases, it's really starting to look bleak for the mortgage option. If not, you've got a really good real, or really bad investing strategy going. Let's now look at the actual equity you expect to have with the apartment inflation adjusted supposing you're an owner at peak areas in Helsinki. "
   ]
  },
  {
   "cell_type": "code",
   "execution_count": 6,
   "metadata": {},
   "outputs": [
    {
     "name": "stdout",
     "output_type": "stream",
     "text": [
      "Equity for mortgage after a time is 319346€\n",
      "The difference between the two strategies is 580190€ before taxes\n"
     ]
    }
   ],
   "source": [
    "equity_value_after_mortgage = future_value(APARTMENT_COST, 0, APPROXIMATE_VALUE_GROWTH_APARTMENT, 25)\n",
    "print(f\"Equity for mortgage after a time is {equity_value_after_mortgage:.0f}€\")\n",
    "print(f\"The difference between the two strategies is {fv - equity_value_after_mortgage:.0f}€ before taxes\")"
   ]
  },
  {
   "cell_type": "markdown",
   "metadata": {},
   "source": [
    "Note that we'd deduct some taxes from this, but generally speaking just living in your own apartment is not going to be worth it. We can look at a 50 year time horizon as well."
   ]
  },
  {
   "cell_type": "code",
<<<<<<< HEAD
   "execution_count": 91,
=======
   "execution_count": 92,
>>>>>>> 96e8639 (add forecast)
   "metadata": {},
   "outputs": [
    {
     "data": {
      "image/png": "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\n",
      "text/plain": [
       "<Figure size 720x360 with 1 Axes>"
      ]
     },
     "metadata": {
      "needs_background": "light"
     },
     "output_type": "display_data"
    }
   ],
   "source": [
    "import numpy as np\n",
    "import matplotlib.pyplot as plt\n",
    "\n",
    "\n",
    "def plot_investment_vs_real_estate(years, yearly_mortgage_payment, interest):\n",
    "    time = np.arange(years + 1)\n",
    "    investment_values = np.zeros(years + 1)\n",
    "    investment_values_post_real_estate = np.zeros(years + 1)\n",
    "    real_estate_value = np.zeros(years + 1)\n",
    "    real_estate_debt = np.zeros(years + 1)\n",
    "    real_estate_debt_deducted = np.zeros(years + 1)\n",
    "\n",
    "    real_estate_value[0] = APARTMENT_COST\n",
    "    investment_values[0] = 0 \n",
    "    investment_values_post_real_estate[0] = 0 \n",
    "    real_estate_debt[0] = 0\n",
    "    \n",
    "    for year in range(1, years + 1):\n",
    "        investment_values[year] = (investment_values[year - 1] + yearly_mortgage_payment)*(1+APPROXIMATE_ROI_ON_STOCKS)\n",
    "        real_estate_value[year] = (real_estate_value[year-1])*(1+APPROXIMATE_VALUE_GROWTH_APARTMENT)\n",
    "\n",
    "        if year > LOAN_DURATION_YEARS:\n",
    "            investment_values_post_real_estate[year] = (investment_values_post_real_estate[year - 1] + yearly_mortgage_payment + RENT)*(1+APPROXIMATE_ROI_ON_STOCKS)\n",
    "            real_estate_debt[year] = real_estate_debt[year-1]\n",
    "        elif year == LOAN_DURATION_YEARS:\n",
    "            investment_values_post_real_estate[year] = (yearly_mortgage_payment + RENT)*(1+APPROXIMATE_ROI_ON_STOCKS)\n",
    "            real_estate_debt[year] = real_estate_debt[year-1]\n",
    "        else:\n",
    "            real_estate_debt[year] = (real_estate_debt[year - 1] * (1+interest)) + yearly_mortgage_payment\n",
    "\n",
    "    real_estate_profit = (real_estate_debt - real_estate_debt[LOAN_DURATION_YEARS] + investment_values_post_real_estate)/1000\n",
    "    real_estate_debt, investment_values = real_estate_debt/1000, investment_values/1000\n",
    "    real_estate_value = (real_estate_value - APARTMENT_COST)/1000\n",
    "    \n",
    "    \n",
    "    plt.figure(figsize=(10, 5))\n",
    "    plt.plot(time, investment_values, label=\"Stocks Investment Value\", linewidth=2)\n",
    "    plt.plot(time, real_estate_profit, label=\"Real Estate Investment Value (€)\", linewidth=2)\n",
    "    plt.plot(time, real_estate_value, label=\"Real Estate Value (€)\", linestyle=\"--\", linewidth=2)\n",
    "    plt.plot(time, real_estate_debt, label=\"Real Estate Debt Paid (€)\", linestyle=\":\", linewidth=2)\n",
    "    plt.xlabel(\"Years\")\n",
    "    plt.ylabel(\"Value (€ in thousands)\")\n",
    "    plt.legend()\n",
    "    plt.grid(True)\n",
    "    plt.show()\n",
    "\n",
    "plot_investment_vs_real_estate(50, monthly_rent_deducted*12, interest)\n",
    "\n"
   ]
  },
  {
   "cell_type": "markdown",
   "metadata": {},
   "source": [
    "This plot does not even account for the opportunity cost of being bound to the apartment, or being in debt for that amount, which is going to be massive on it's own. It accounts for the fact that after paying out the loan, you will invest the money you save into investments, and thay you're not paying for rent."
   ]
  },
  {
   "cell_type": "code",
   "execution_count": null,
   "metadata": {},
   "outputs": [],
   "source": []
  }
 ],
 "metadata": {
  "kernelspec": {
   "display_name": "Python 3 (ipykernel)",
   "language": "python",
   "name": "python3"
  },
  "language_info": {
   "codemirror_mode": {
    "name": "ipython",
    "version": 3
   },
   "file_extension": ".py",
   "mimetype": "text/x-python",
   "name": "python",
   "nbconvert_exporter": "python",
   "pygments_lexer": "ipython3",
   "version": "3.10.5"
  }
 },
 "nbformat": 4,
 "nbformat_minor": 2
}
