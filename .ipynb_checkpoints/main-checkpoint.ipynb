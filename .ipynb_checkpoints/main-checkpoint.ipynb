{
 "cells": [
  {
   "cell_type": "markdown",
   "metadata": {},
   "source": [
    "# Introduction\n",
    "Hey, I'm Miika. I'm a data science msc at the University of Helsinki. I'm currently firmly transitioning into working life, and this is my attempt to have a clear and systematic look at whether or not I oughta \n",
    "\n",
    "    1) Rent an apartment\n",
    "    2) Take a mortgage\n",
    "\n",
    "For this analysis to be useful, I need to disclose some key numbers. As a software engineer by trade, I want anyone in, what should approximate, a situation similar to mine (young professional with some wealth in ETF's or equivalent, in Helsinki who wants to live close to the center of the city) to be able to plug in some of their numbers and understand my argument from their perspective, considering only the financials.\n",
    "\n",
    "**Note that this should be viewed as my OPINION of whether or not it's worth for you, using assumptions that I've set. The program does not claim to approximate the actual outcome of your purchase.**"
   ]
  },
  {
   "cell_type": "markdown",
   "metadata": {},
   "source": [
    "# Numbers"
   ]
  },
  {
   "cell_type": "markdown",
   "metadata": {},
   "source": [
    "Alright, let's start plugging in some basic stuff."
   ]
  },
  {
   "cell_type": "code",
   "execution_count": 1,
   "metadata": {},
   "outputs": [],
   "source": [
    "# Plug your numbers here in whole euros\n",
    "MONTHLY_SALARY          = 4200\n",
    "INVESTMENTS             = 51000\n",
    "SUPPLEMENTARY_INCOME    = 800 # account for all income that's not from your salary, averaged over a year"
   ]
  },
  {
   "cell_type": "markdown",
   "metadata": {},
   "source": [
    "Next, we'll want to consider a few things:\n",
    "\n",
    "    1) If you have investments, we need to approximate the annual return. For this, if your investments resides in the finnish markets, I pray for you. For American ETF's or stocks, I'll use the standard 7% inflation accounted for number. For simplicity, I'm assuming that you will never sell, or at least pay tax on your stocks that you're trading.\n",
    "\n",
    "    2) We need to consider the growth rate for the apartment itself: https://kaupunkitieto.hel.fi/fi/asuminen/asuntomarkkinat/asuntojen-hinnat. This source defines the city as a group of 5 kalleusalue. We're supposing that we're interested in kalleusalue 1 and 2 alone. In 14 years, they've risen about 36%. This means that average yearly value added is given by 100*1.0225^14 = ~136, so 2.25%.\n",
    "       \n",
    "       This is NOT inflation accounted as far as I understand, so this screams a bad deal thus far\n"
   ]
  },
  {
   "cell_type": "code",
   "execution_count": 35,
   "metadata": {},
   "outputs": [],
   "source": [
    "# Expected profit\n",
    "APPROXIMATE_ROI_ON_STOCKS = 0.07\n",
    "APPROXIMATE_VALUE_GROWTH_APARTMENT = 0.0225\n",
    "INFLATION = 0.02"
   ]
  },
  {
   "cell_type": "markdown",
   "metadata": {},
   "source": [
    "    3) We're interested in the total costs of renting an apartment vs buying one. I'm using the logic provided by POP bank here: https://www.poppankki.fi/blogi/kannattaako-asua-vuokralla-vai-ostaa-asunto"
   ]
  },
  {
   "cell_type": "code",
   "execution_count": 17,
   "metadata": {},
   "outputs": [],
   "source": [
    "# Rental costs: very simple stuff\n",
    "RENT = 800\n",
    "\n",
    "# Costs of ownership\n",
    "LOAN_AMOUNT = 300000\n",
    "YHTIOVASTIKE = 300\n",
    "EURIBOR = 0.03\n",
    "MARGIN = 0.01\n",
    "LOAN_DURATION_YEARS = 25\n",
    "DOWN_PAYMENT_PERCENTAGE = 0.05 # for first time home buyers\n",
    "\n",
    "# Common\n",
    "UTILITIES = 100\n"
   ]
  },
  {
   "cell_type": "markdown",
   "metadata": {},
   "source": [
    "    4) We're also interested in the tax outlook for the given choices"
   ]
  },
  {
   "cell_type": "code",
   "execution_count": 32,
   "metadata": {},
   "outputs": [],
   "source": [
    "CAPITAL_GAINS_TAX = 0.34"
   ]
  },
  {
   "cell_type": "markdown",
   "metadata": {},
   "source": [
    "# Running the numbers"
   ]
  },
  {
   "cell_type": "markdown",
   "metadata": {},
   "source": [
    "\n",
    "# Monthly payment\n",
    "Simple assumption: we look at outcome after the loan has been paid for. We will use the annuity formula\n",
    "\n",
    "$A= P \\frac{\\frac{R}{12}(1+\\frac{R}{12})^n}{(1+\\frac{R}{12})^n + 1}$ \n",
    "\n",
    "Here\n",
    " - A is the monthly payment \n",
    " - P is the principal\n",
    " - R is the fixed interest rate\n",
    " - n is the duration in months"
   ]
  },
  {
   "cell_type": "code",
   "execution_count": 24,
   "metadata": {},
   "outputs": [],
   "source": [
    "principal = round(LOAN_AMOUNT - (LOAN_AMOUNT * DOWN_PAYMENT_PERCENTAGE))\n",
    "interest = (EURIBOR + MARGIN)/12\n",
    "duration = LOAN_DURATION_YEARS*12\n",
    "\n",
    "monthly_payment = int(principal * ( (interest*((1+interest)**duration))/((1+interest)**duration - 1)))\n",
    "total_cost = UTILITIES + YHTIOVASTIKE + monthly_payment"
   ]
  },
  {
   "cell_type": "code",
   "execution_count": 25,
   "metadata": {},
   "outputs": [
    {
     "name": "stdout",
     "output_type": "stream",
     "text": [
      "When principal is 285000€ with interest of 0.040%, for 300 months:\n",
      " Monthly payment is 1504€ \n",
      " Total cost of living is 1904€\n"
     ]
    }
   ],
   "source": [
    "print(f\"When principal is {principal:.0f}€ with interest of {interest*12:.3f}%, for {duration} months:\\n Monthly payment is {monthly_payment:.0f}€ \\n Total cost of living is {total_cost:.0f}€\")"
   ]
  },
  {
   "cell_type": "markdown",
   "metadata": {},
   "source": [
    "Let's now compute the investment future value, supposing we invest this amount instead of paying it into the equity, deducting the rent we pay."
   ]
  },
  {
   "cell_type": "code",
   "execution_count": 33,
   "metadata": {},
   "outputs": [
    {
     "name": "stdout",
     "output_type": "stream",
     "text": [
      "Suppose we invested the difference after 25 years: 899536€ \n",
      " of which gross profit is 328336€\n",
      " of which net profit is 216702€\n"
     ]
    }
   ],
   "source": [
    "def future_value(initial_investment, monthly_contribution, annual_rate, years):\n",
    "    r = annual_rate / 12  \n",
    "    n = years * 12\n",
    "    fv = (initial_investment * (1 + r) ** n) + (monthly_contribution * ((1 + r) ** n - 1) / r) * (1 + r)\n",
    "    return round(fv, 2)\n",
    "\n",
    "monthly_rent_deducted = total_cost - RENT\n",
    "\n",
    "fv = future_value(0, monthly_rent_deducted, APPROXIMATE_ROI_ON_STOCKS, 25)\n",
    "gross_profit = (fv - duration*total_cost)\n",
    "net_profit = gross_profit*(1-CAPITAL_GAINS_TAX)\n",
    "\n",
    "\n",
    "print(f\"Suppose we invested the difference after 25 years: {fv:.0f}€ \\n of which gross profit is {gross_profit:.0f}€\\n of which net profit is {net_profit:.0f}€\")\n"
   ]
  },
  {
   "cell_type": "markdown",
   "metadata": {},
   "source": [
    "In most cases, it's really starting to look bleak for the mortgage option. If not, you've got a really good real, or really bad investing strategy going. Let's now look at the actual equity you expect to have with the apartment inflation adjusted supposing you're an owner at peak areas in Helsinki. "
   ]
  },
  {
   "cell_type": "code",
   "execution_count": 37,
   "metadata": {},
   "outputs": [
    {
     "name": "stdout",
     "output_type": "stream",
     "text": [
      "Equity for mortgage after a time is 319346€\n",
      "The difference between the two strategies is 8990€\n"
     ]
    }
   ],
   "source": [
    "apartment_annual_growth_ia = APPROXIMATE_VALUE_GROWTH_APARTMENT-INFLATION\n",
    "equity_value_after_mortgage = future_value(LOAN_AMOUNT, 0, apartment_annual_growth_ia, 25)\n",
    "print(f\"Equity for mortgage after a time is {equity_value_after_mortgage:.0f}€\")\n",
    "print(f\"The difference between the two strategies is {fv - equity_value_after_mortgage:.0f}€ before taxes\")"
   ]
  },
  {
   "cell_type": "markdown",
   "metadata": {},
   "source": [
    "Note that we'd deduct some taxes from this, but generally speaking just living in your own apartment is not going to be worth it. "
   ]
  }
 ],
 "metadata": {
  "kernelspec": {
   "display_name": "Python 3 (ipykernel)",
   "language": "python",
   "name": "python3"
  },
  "language_info": {
   "codemirror_mode": {
    "name": "ipython",
    "version": 3
   },
   "file_extension": ".py",
   "mimetype": "text/x-python",
   "name": "python",
   "nbconvert_exporter": "python",
   "pygments_lexer": "ipython3",
   "version": "3.10.5"
  }
 },
 "nbformat": 4,
 "nbformat_minor": 2
}
